{
 "cells": [
  {
   "cell_type": "markdown",
   "id": "9cee8b07",
   "metadata": {},
   "source": [
    "# This is notebook performs an exploratory data analysis on a sales dataset. The analysis is done using simple python techniques and syntax. This makes the notebook easy to comprehend to newbies. I hope you'll learn from it.👍"
   ]
  },
  {
   "cell_type": "markdown",
   "id": "370f9250",
   "metadata": {},
   "source": [
    "__Importing the required libraries__"
   ]
  },
  {
   "cell_type": "code",
   "execution_count": 58,
   "id": "d09e2312",
   "metadata": {},
   "outputs": [],
   "source": [
    "import pandas as pd                #imports pandas for manipulation \n",
    "import matplotlib.pyplot as plt    # imports matplotlib for visualization\n",
    "import seaborn as sns              #imports seaborn for visualization\n",
    "import warnings                    #import warning for managing warnings\n",
    "warnings.filterwarnings(\"ignore\", category = FutureWarning) #to suppress warnings from 'FutureWarning' category"
   ]
  },
  {
   "cell_type": "markdown",
   "id": "52cd539e",
   "metadata": {},
   "source": [
    "__Reading and understanding of data__"
   ]
  },
  {
   "cell_type": "code",
   "execution_count": 59,
   "id": "838de7f5",
   "metadata": {},
   "outputs": [],
   "source": [
    "df = pd.read_excel(\"C:/Users/MASTER/Desktop/Dataset/sales_data.xlsx\")  #reads and stores data in 'df'"
   ]
  },
  {
   "cell_type": "code",
   "execution_count": 60,
   "id": "86ee2c98",
   "metadata": {},
   "outputs": [
    {
     "data": {
      "text/html": [
       "<div>\n",
       "<style scoped>\n",
       "    .dataframe tbody tr th:only-of-type {\n",
       "        vertical-align: middle;\n",
       "    }\n",
       "\n",
       "    .dataframe tbody tr th {\n",
       "        vertical-align: top;\n",
       "    }\n",
       "\n",
       "    .dataframe thead th {\n",
       "        text-align: right;\n",
       "    }\n",
       "</style>\n",
       "<table border=\"1\" class=\"dataframe\">\n",
       "  <thead>\n",
       "    <tr style=\"text-align: right;\">\n",
       "      <th></th>\n",
       "      <th>Region</th>\n",
       "      <th>Country</th>\n",
       "      <th>Item Type</th>\n",
       "      <th>Sales Channel</th>\n",
       "      <th>Order Priority</th>\n",
       "      <th>Order Date</th>\n",
       "      <th>Order ID</th>\n",
       "      <th>Ship Date</th>\n",
       "      <th>Units Sold</th>\n",
       "      <th>Unit Price</th>\n",
       "      <th>Unit Cost</th>\n",
       "      <th>Total Revenue</th>\n",
       "      <th>Total Cost</th>\n",
       "      <th>Total Profit</th>\n",
       "    </tr>\n",
       "  </thead>\n",
       "  <tbody>\n",
       "    <tr>\n",
       "      <th>0</th>\n",
       "      <td>Sub-Saharan Africa</td>\n",
       "      <td>Chad</td>\n",
       "      <td>Office Supplies</td>\n",
       "      <td>Online</td>\n",
       "      <td>L</td>\n",
       "      <td>2011-01-27</td>\n",
       "      <td>292494523</td>\n",
       "      <td>2011-02-12</td>\n",
       "      <td>4484</td>\n",
       "      <td>651.21</td>\n",
       "      <td>524.96</td>\n",
       "      <td>2920025.64</td>\n",
       "      <td>2353920.64</td>\n",
       "      <td>566105.00</td>\n",
       "    </tr>\n",
       "    <tr>\n",
       "      <th>1</th>\n",
       "      <td>Europe</td>\n",
       "      <td>Latvia</td>\n",
       "      <td>Beverages</td>\n",
       "      <td>Online</td>\n",
       "      <td>C</td>\n",
       "      <td>2015-12-28</td>\n",
       "      <td>361825549</td>\n",
       "      <td>2016-01-23</td>\n",
       "      <td>1075</td>\n",
       "      <td>47.45</td>\n",
       "      <td>31.79</td>\n",
       "      <td>51008.75</td>\n",
       "      <td>34174.25</td>\n",
       "      <td>16834.50</td>\n",
       "    </tr>\n",
       "    <tr>\n",
       "      <th>2</th>\n",
       "      <td>Middle East and North Africa</td>\n",
       "      <td>Pakistan</td>\n",
       "      <td>Vegetables</td>\n",
       "      <td>Offline</td>\n",
       "      <td>C</td>\n",
       "      <td>2011-01-13</td>\n",
       "      <td>141515767</td>\n",
       "      <td>2011-02-01</td>\n",
       "      <td>6515</td>\n",
       "      <td>154.06</td>\n",
       "      <td>90.93</td>\n",
       "      <td>1003700.90</td>\n",
       "      <td>592408.95</td>\n",
       "      <td>411291.95</td>\n",
       "    </tr>\n",
       "    <tr>\n",
       "      <th>3</th>\n",
       "      <td>Sub-Saharan Africa</td>\n",
       "      <td>Democratic Republic of the Congo</td>\n",
       "      <td>Household</td>\n",
       "      <td>Online</td>\n",
       "      <td>C</td>\n",
       "      <td>2012-09-11</td>\n",
       "      <td>500364005</td>\n",
       "      <td>2012-10-06</td>\n",
       "      <td>7683</td>\n",
       "      <td>668.27</td>\n",
       "      <td>502.54</td>\n",
       "      <td>5134318.41</td>\n",
       "      <td>3861014.82</td>\n",
       "      <td>1273303.59</td>\n",
       "    </tr>\n",
       "    <tr>\n",
       "      <th>4</th>\n",
       "      <td>Europe</td>\n",
       "      <td>Czech Republic</td>\n",
       "      <td>Beverages</td>\n",
       "      <td>Online</td>\n",
       "      <td>C</td>\n",
       "      <td>2015-10-27</td>\n",
       "      <td>127481591</td>\n",
       "      <td>2015-12-05</td>\n",
       "      <td>3491</td>\n",
       "      <td>47.45</td>\n",
       "      <td>31.79</td>\n",
       "      <td>165647.95</td>\n",
       "      <td>110978.89</td>\n",
       "      <td>54669.06</td>\n",
       "    </tr>\n",
       "  </tbody>\n",
       "</table>\n",
       "</div>"
      ],
      "text/plain": [
       "                         Region                           Country  \\\n",
       "0            Sub-Saharan Africa                              Chad   \n",
       "1                        Europe                            Latvia   \n",
       "2  Middle East and North Africa                          Pakistan   \n",
       "3            Sub-Saharan Africa  Democratic Republic of the Congo   \n",
       "4                        Europe                    Czech Republic   \n",
       "\n",
       "         Item Type Sales Channel Order Priority Order Date   Order ID  \\\n",
       "0  Office Supplies        Online              L 2011-01-27  292494523   \n",
       "1        Beverages        Online              C 2015-12-28  361825549   \n",
       "2       Vegetables       Offline              C 2011-01-13  141515767   \n",
       "3        Household        Online              C 2012-09-11  500364005   \n",
       "4        Beverages        Online              C 2015-10-27  127481591   \n",
       "\n",
       "   Ship Date  Units Sold  Unit Price  Unit Cost  Total Revenue  Total Cost  \\\n",
       "0 2011-02-12        4484      651.21     524.96     2920025.64  2353920.64   \n",
       "1 2016-01-23        1075       47.45      31.79       51008.75    34174.25   \n",
       "2 2011-02-01        6515      154.06      90.93     1003700.90   592408.95   \n",
       "3 2012-10-06        7683      668.27     502.54     5134318.41  3861014.82   \n",
       "4 2015-12-05        3491       47.45      31.79      165647.95   110978.89   \n",
       "\n",
       "   Total Profit  \n",
       "0     566105.00  \n",
       "1      16834.50  \n",
       "2     411291.95  \n",
       "3    1273303.59  \n",
       "4      54669.06  "
      ]
     },
     "execution_count": 60,
     "metadata": {},
     "output_type": "execute_result"
    }
   ],
   "source": [
    "df.head()   #displays the first five rows of data"
   ]
  },
  {
   "cell_type": "code",
   "execution_count": 61,
   "id": "90b3f26d",
   "metadata": {},
   "outputs": [
    {
     "name": "stdout",
     "output_type": "stream",
     "text": [
      "<class 'pandas.core.frame.DataFrame'>\n",
      "RangeIndex: 10000 entries, 0 to 9999\n",
      "Data columns (total 14 columns):\n",
      " #   Column          Non-Null Count  Dtype         \n",
      "---  ------          --------------  -----         \n",
      " 0   Region          10000 non-null  object        \n",
      " 1   Country         10000 non-null  object        \n",
      " 2   Item Type       10000 non-null  object        \n",
      " 3   Sales Channel   10000 non-null  object        \n",
      " 4   Order Priority  10000 non-null  object        \n",
      " 5   Order Date      10000 non-null  datetime64[ns]\n",
      " 6   Order ID        10000 non-null  int64         \n",
      " 7   Ship Date       10000 non-null  datetime64[ns]\n",
      " 8   Units Sold      10000 non-null  int64         \n",
      " 9   Unit Price      10000 non-null  float64       \n",
      " 10  Unit Cost       10000 non-null  float64       \n",
      " 11  Total Revenue   10000 non-null  float64       \n",
      " 12  Total Cost      10000 non-null  float64       \n",
      " 13  Total Profit    10000 non-null  float64       \n",
      "dtypes: datetime64[ns](2), float64(5), int64(2), object(5)\n",
      "memory usage: 1.1+ MB\n"
     ]
    }
   ],
   "source": [
    "df.info()  #displays the general information of data"
   ]
  },
  {
   "cell_type": "raw",
   "id": "3da4fe10",
   "metadata": {},
   "source": [
    "It can be seen that the data has:\n",
    "    . 10000 entries (rows) \n",
    "    . 14 columns ()\n",
    "    . No null values\n",
    "    . data type summary: datetime64[ns](2), float64(5), int64(2), object(5)"
   ]
  },
  {
   "cell_type": "code",
   "execution_count": 357,
   "id": "174c54bb",
   "metadata": {},
   "outputs": [
    {
     "data": {
      "text/html": [
       "<div>\n",
       "<style scoped>\n",
       "    .dataframe tbody tr th:only-of-type {\n",
       "        vertical-align: middle;\n",
       "    }\n",
       "\n",
       "    .dataframe tbody tr th {\n",
       "        vertical-align: top;\n",
       "    }\n",
       "\n",
       "    .dataframe thead th {\n",
       "        text-align: right;\n",
       "    }\n",
       "</style>\n",
       "<table border=\"1\" class=\"dataframe\">\n",
       "  <thead>\n",
       "    <tr style=\"text-align: right;\">\n",
       "      <th></th>\n",
       "      <th>Order ID</th>\n",
       "      <th>Units Sold</th>\n",
       "      <th>Unit Price</th>\n",
       "      <th>Unit Cost</th>\n",
       "      <th>Total Revenue</th>\n",
       "      <th>Total Cost</th>\n",
       "      <th>Total Profit</th>\n",
       "      <th>Year</th>\n",
       "    </tr>\n",
       "  </thead>\n",
       "  <tbody>\n",
       "    <tr>\n",
       "      <th>count</th>\n",
       "      <td>1.000000e+04</td>\n",
       "      <td>10000.000000</td>\n",
       "      <td>10000.000000</td>\n",
       "      <td>10000.000000</td>\n",
       "      <td>1.000000e+04</td>\n",
       "      <td>1.000000e+04</td>\n",
       "      <td>1.000000e+04</td>\n",
       "      <td>10000.000000</td>\n",
       "    </tr>\n",
       "    <tr>\n",
       "      <th>mean</th>\n",
       "      <td>5.498719e+08</td>\n",
       "      <td>5002.855900</td>\n",
       "      <td>268.143139</td>\n",
       "      <td>188.806639</td>\n",
       "      <td>1.333355e+06</td>\n",
       "      <td>9.382658e+05</td>\n",
       "      <td>3.950893e+05</td>\n",
       "      <td>2013.339700</td>\n",
       "    </tr>\n",
       "    <tr>\n",
       "      <th>std</th>\n",
       "      <td>2.607835e+08</td>\n",
       "      <td>2873.246454</td>\n",
       "      <td>217.944092</td>\n",
       "      <td>176.445907</td>\n",
       "      <td>1.465026e+06</td>\n",
       "      <td>1.145914e+06</td>\n",
       "      <td>3.775550e+05</td>\n",
       "      <td>2.185036</td>\n",
       "    </tr>\n",
       "    <tr>\n",
       "      <th>min</th>\n",
       "      <td>1.000892e+08</td>\n",
       "      <td>2.000000</td>\n",
       "      <td>9.330000</td>\n",
       "      <td>6.920000</td>\n",
       "      <td>1.679400e+02</td>\n",
       "      <td>1.245600e+02</td>\n",
       "      <td>4.338000e+01</td>\n",
       "      <td>2010.000000</td>\n",
       "    </tr>\n",
       "    <tr>\n",
       "      <th>25%</th>\n",
       "      <td>3.218067e+08</td>\n",
       "      <td>2530.750000</td>\n",
       "      <td>109.280000</td>\n",
       "      <td>56.670000</td>\n",
       "      <td>2.885511e+05</td>\n",
       "      <td>1.647855e+05</td>\n",
       "      <td>9.832914e+04</td>\n",
       "      <td>2011.000000</td>\n",
       "    </tr>\n",
       "    <tr>\n",
       "      <th>50%</th>\n",
       "      <td>5.485663e+08</td>\n",
       "      <td>4962.000000</td>\n",
       "      <td>205.700000</td>\n",
       "      <td>117.110000</td>\n",
       "      <td>8.000512e+05</td>\n",
       "      <td>4.816058e+05</td>\n",
       "      <td>2.890990e+05</td>\n",
       "      <td>2013.000000</td>\n",
       "    </tr>\n",
       "    <tr>\n",
       "      <th>75%</th>\n",
       "      <td>7.759981e+08</td>\n",
       "      <td>7472.000000</td>\n",
       "      <td>437.200000</td>\n",
       "      <td>364.690000</td>\n",
       "      <td>1.819143e+06</td>\n",
       "      <td>1.183822e+06</td>\n",
       "      <td>5.664227e+05</td>\n",
       "      <td>2015.000000</td>\n",
       "    </tr>\n",
       "    <tr>\n",
       "      <th>max</th>\n",
       "      <td>9.999342e+08</td>\n",
       "      <td>10000.000000</td>\n",
       "      <td>668.270000</td>\n",
       "      <td>524.960000</td>\n",
       "      <td>6.680027e+06</td>\n",
       "      <td>5.241726e+06</td>\n",
       "      <td>1.738178e+06</td>\n",
       "      <td>2017.000000</td>\n",
       "    </tr>\n",
       "  </tbody>\n",
       "</table>\n",
       "</div>"
      ],
      "text/plain": [
       "           Order ID    Units Sold    Unit Price     Unit Cost  Total Revenue  \\\n",
       "count  1.000000e+04  10000.000000  10000.000000  10000.000000   1.000000e+04   \n",
       "mean   5.498719e+08   5002.855900    268.143139    188.806639   1.333355e+06   \n",
       "std    2.607835e+08   2873.246454    217.944092    176.445907   1.465026e+06   \n",
       "min    1.000892e+08      2.000000      9.330000      6.920000   1.679400e+02   \n",
       "25%    3.218067e+08   2530.750000    109.280000     56.670000   2.885511e+05   \n",
       "50%    5.485663e+08   4962.000000    205.700000    117.110000   8.000512e+05   \n",
       "75%    7.759981e+08   7472.000000    437.200000    364.690000   1.819143e+06   \n",
       "max    9.999342e+08  10000.000000    668.270000    524.960000   6.680027e+06   \n",
       "\n",
       "         Total Cost  Total Profit          Year  \n",
       "count  1.000000e+04  1.000000e+04  10000.000000  \n",
       "mean   9.382658e+05  3.950893e+05   2013.339700  \n",
       "std    1.145914e+06  3.775550e+05      2.185036  \n",
       "min    1.245600e+02  4.338000e+01   2010.000000  \n",
       "25%    1.647855e+05  9.832914e+04   2011.000000  \n",
       "50%    4.816058e+05  2.890990e+05   2013.000000  \n",
       "75%    1.183822e+06  5.664227e+05   2015.000000  \n",
       "max    5.241726e+06  1.738178e+06   2017.000000  "
      ]
     },
     "execution_count": 357,
     "metadata": {},
     "output_type": "execute_result"
    }
   ],
   "source": [
    "df.describe() #displays the descriptive statistics of data"
   ]
  },
  {
   "cell_type": "code",
   "execution_count": 365,
   "id": "ecffeebc",
   "metadata": {
    "scrolled": true
   },
   "outputs": [
    {
     "data": {
      "text/plain": [
       "Text(0.5, 0, '[]')"
      ]
     },
     "execution_count": 365,
     "metadata": {},
     "output_type": "execute_result"
    },
    {
     "data": {
      "text/plain": [
       "<Figure size 800x600 with 0 Axes>"
      ]
     },
     "metadata": {},
     "output_type": "display_data"
    },
    {
     "data": {
      "image/png": "[encoded data removed]",
      "text/plain": [
       "<Figure size 640x480 with 12 Axes>"
      ]
     },
     "metadata": {},
     "output_type": "display_data"
    }
   ],
   "source": [
    "#\n",
    "plt.figure(figsize = (8,6))\n",
    "df.hist()\n",
    "plt.tight_layout()\n",
    "plt.xlabel([])"
   ]
  },
  {
   "cell_type": "code",
   "execution_count": 64,
   "id": "4dfe1d1e",
   "metadata": {},
   "outputs": [
    {
     "data": {
      "text/plain": [
       "0"
      ]
     },
     "execution_count": 64,
     "metadata": {},
     "output_type": "execute_result"
    }
   ],
   "source": [
    "df.duplicated().sum() #checks for duplicates"
   ]
  },
  {
   "cell_type": "code",
   "execution_count": 374,
   "id": "1db1647a",
   "metadata": {},
   "outputs": [
    {
     "data": {
      "text/plain": [
       "Index(['Region', 'Country', 'Item Type', 'Sales Channel', 'Order Priority',\n",
       "       'Order Date', 'Order ID', 'Ship Date', 'Units Sold', 'Unit Price',\n",
       "       'Unit Cost', 'Total Revenue', 'Total Cost', 'Total Profit', 'Year'],\n",
       "      dtype='object')"
      ]
     },
     "execution_count": 374,
     "metadata": {},
     "output_type": "execute_result"
    }
   ],
   "source": [
    " df.columns"
   ]
  },
  {
   "cell_type": "code",
   "execution_count": 66,
   "id": "443890ce",
   "metadata": {},
   "outputs": [
    {
     "data": {
      "text/plain": [
       "dtype('float64')"
      ]
     },
     "execution_count": 66,
     "metadata": {},
     "output_type": "execute_result"
    }
   ],
   "source": [
    "df['Total Cost'].dtype"
   ]
  },
  {
   "cell_type": "code",
   "execution_count": 372,
   "id": "5367bc5c",
   "metadata": {},
   "outputs": [
    {
     "name": "stdout",
     "output_type": "stream",
     "text": [
      "Value count of Region:\n",
      "\n",
      "Europe                               2633\n",
      "Sub-Saharan Africa                   2603\n",
      "Asia                                 1469\n",
      "Middle East and North Africa         1264\n",
      "Central America and the Caribbean    1019\n",
      "Australia and Oceania                 797\n",
      "North America                         215\n",
      "Name: Region, dtype: int64\n",
      "\n",
      "\n",
      "Value count of Country:\n",
      "\n",
      "United Kingdom    72\n",
      "Lithuania         72\n",
      "Moldova           71\n",
      "Seychelles        70\n",
      "Croatia           70\n",
      "                  ..\n",
      "Slovakia          42\n",
      "Greenland         41\n",
      "Tajikistan        40\n",
      "Saint Lucia       39\n",
      "Mali              35\n",
      "Name: Country, Length: 185, dtype: int64\n",
      "\n",
      "\n",
      "Value count of Item Type:\n",
      "\n",
      "Personal Care      888\n",
      "Household          875\n",
      "Clothes            872\n",
      "Baby Food          842\n",
      "Office Supplies    837\n",
      "Vegetables         836\n",
      "Cosmetics          834\n",
      "Cereal             825\n",
      "Snacks             816\n",
      "Meat               798\n",
      "Fruits             795\n",
      "Beverages          782\n",
      "Name: Item Type, dtype: int64\n",
      "\n",
      "\n",
      "Value count of Sales Channel:\n",
      "\n",
      "Online     5061\n",
      "Offline    4939\n",
      "Name: Sales Channel, dtype: int64\n",
      "\n",
      "\n",
      "Value count of Order Priority:\n",
      "\n",
      "C    2555\n",
      "H    2503\n",
      "L    2494\n",
      "M    2448\n",
      "Name: Order Priority, dtype: int64\n",
      "\n",
      "\n"
     ]
    }
   ],
   "source": [
    "#checking the value counts of all categorical columns\n",
    "cols = df.columns    #returns a list of the column names\n",
    "for col in cols:     #iterates over the list of column names\n",
    "    if df[col].dtype == 'object':    # checks if data type of values in column is object\n",
    "        print(f\"Value count of {col}:\\n\\n{df[col].value_counts()}\\n\\n\")  # prints the value counts of such columns"
   ]
  },
  {
   "cell_type": "markdown",
   "id": "0de2cfb7",
   "metadata": {},
   "source": [
    "__Which Region raked in the most Revenue?__"
   ]
  },
  {
   "cell_type": "raw",
   "id": "19e26481",
   "metadata": {},
   "source": [
    "This will be done by grouping the data by 'Region' and returning the sum of \"Total Revenue\" for each region."
   ]
  },
  {
   "cell_type": "code",
   "execution_count": 68,
   "id": "720625c8",
   "metadata": {},
   "outputs": [
    {
     "data": {
      "text/plain": [
       "Region\n",
       "Europe                               3.481372e+09\n",
       "Sub-Saharan Africa                   3.350556e+09\n",
       "Asia                                 2.005306e+09\n",
       "Middle East and North Africa         1.715633e+09\n",
       "Central America and the Caribbean    1.395530e+09\n",
       "Australia and Oceania                1.049802e+09\n",
       "North America                        3.353524e+08\n",
       "Name: Total Revenue, dtype: float64"
      ]
     },
     "execution_count": 68,
     "metadata": {},
     "output_type": "execute_result"
    }
   ],
   "source": [
    "df.groupby('Region').sum()['Total Revenue'].sort_values(ascending = False) \n",
    "#df is grouped by region and sum of total revenue of each region is returned. The values are sorted in descending order."
   ]
  },
  {
   "cell_type": "raw",
   "id": "dab6d16f",
   "metadata": {},
   "source": [
    "Visualizing the result"
   ]
  },
  {
   "cell_type": "code",
   "execution_count": 378,
   "id": "d2107e95",
   "metadata": {},
   "outputs": [],
   "source": [
    "total_profit_per_region = df.groupby('Region').sum()['Total Revenue'].sort_values(ascending = False).values\n",
    "regions = df.groupby('Region').sum()['Total Revenue'].sort_values(ascending = False).index\n",
    "#Note: df.groupby...values retuns only the values after grouping\n",
    "    #  df.groupby...index returns only the index (category/group name) after grouping"
   ]
  },
  {
   "cell_type": "code",
   "execution_count": 380,
   "id": "4bde447d",
   "metadata": {},
   "outputs": [
    {
     "data": {
      "text/plain": [
       "Text(0.5, 0, 'Total revenue')"
      ]
     },
     "execution_count": 380,
     "metadata": {},
     "output_type": "execute_result"
    },
    {
     "data": {
      "image/png": "[encoded data removed]",
      "text/plain": [
       "<Figure size 800x500 with 1 Axes>"
      ]
     },
     "metadata": {},
     "output_type": "display_data"
    }
   ],
   "source": [
    "plt.figure(figsize = (8,5))  #sets the size of chart\n",
    "sns.barplot(x = total_profit_per_region, y = regions, palette = 'autumn')\n",
    "plt.title(\"Total revenue by region\", fontsize = 10) #sets the title of chart, fontsize sets the fontsize...12 is the default size\n",
    "plt.xlabel(\"Total revenue\")  #sets the xlabel"
   ]
  },
  {
   "cell_type": "code",
   "execution_count": 430,
   "id": "6e0064f0",
   "metadata": {},
   "outputs": [
    {
     "name": "stdout",
     "output_type": "stream",
     "text": [
      "The region that raked in the highest revenue is \u001b[1mEurope\u001b[0m with a total revenue of \u001b[1m3481372072.75\u001b[0m\n"
     ]
    }
   ],
   "source": [
    "#Printing output using f-string method of string formation. '\\033[1m' for bold\n",
    "print(f\"The region that raked in the highest revenue is \\033[1m{regions[0]}\\033[0m with a total revenue of \\033[1m{total_profit_per_region[0]}\\033[0m\")"
   ]
  },
  {
   "cell_type": "markdown",
   "id": "9e9ffe14",
   "metadata": {},
   "source": [
    "__Who are the top five and bottom five Countries, based on profit?__"
   ]
  },
  {
   "cell_type": "raw",
   "id": "53e2717e",
   "metadata": {},
   "source": [
    "We'll group the data by country, return the sum of total profit for each country, sort in descending order and \n",
    "show the first 5 countries for top 5; show the last 5 countries for bottom 5"
   ]
  },
  {
   "cell_type": "code",
   "execution_count": 95,
   "id": "13f776e7",
   "metadata": {},
   "outputs": [
    {
     "data": {
      "text/plain": [
       "Country\n",
       "Kiribati    32454798.26\n",
       "Qatar       30861356.79\n",
       "Grenada     30302769.90\n",
       "Taiwan      30044779.98\n",
       "Malawi      29329125.05\n",
       "Name: Total Profit, dtype: float64"
      ]
     },
     "execution_count": 95,
     "metadata": {},
     "output_type": "execute_result"
    }
   ],
   "source": [
    "#group data by country and return the sum of total profit, then sort in descending order\n",
    "df.groupby('Country').sum()['Total Profit'].sort_values(ascending = False).iloc[:5] #.iloc[:5] returns the first 5 records"
   ]
  },
  {
   "cell_type": "code",
   "execution_count": 94,
   "id": "cbd2dc85",
   "metadata": {},
   "outputs": [
    {
     "data": {
      "text/plain": [
       "Country\n",
       "Cape Verde    14383303.52\n",
       "Italy         14199991.25\n",
       "Malta         14163744.55\n",
       "Mali          13800334.90\n",
       "Tajikistan    13662027.26\n",
       "Name: Total Profit, dtype: float64"
      ]
     },
     "execution_count": 94,
     "metadata": {},
     "output_type": "execute_result"
    }
   ],
   "source": [
    "#group data by country and return the sum of total profit, then sort in descending order\n",
    "df.groupby('Country').sum()['Total Profit'].sort_values(ascending = False).iloc[-5:] #.iloc[-5:] returns the last 5 records"
   ]
  },
  {
   "cell_type": "raw",
   "id": "f8ee84ee",
   "metadata": {},
   "source": [
    "Plotting a subplot for top and bottom 5 countries"
   ]
  },
  {
   "cell_type": "code",
   "execution_count": 432,
   "id": "52b11452",
   "metadata": {},
   "outputs": [
    {
     "data": {
      "text/plain": [
       "Text(0.5, 1.0, 'Bottom 5 countries by profit')"
      ]
     },
     "execution_count": 432,
     "metadata": {},
     "output_type": "execute_result"
    },
    {
     "data": {
      "image/png": "[encoded data removed]",
      "text/plain": [
       "<Figure size 1000x300 with 2 Axes>"
      ]
     },
     "metadata": {},
     "output_type": "display_data"
    }
   ],
   "source": [
    "#ceating a subplot of 2 charts on a row. Both plots to share y-axis\n",
    "fig,ax = plt.subplots(nrows = 1, ncols = 2, figsize = (10,3),sharey = True) \n",
    "\n",
    "# ax[0] is the first chart\n",
    "ax[0].bar(x = df.groupby('Country').sum()['Total Profit'].sort_values(ascending = False).iloc[:5].index, \n",
    "          height = df.groupby('Country').sum()['Total Profit'].sort_values(ascending = False).iloc[:5].values, \n",
    "          color = 'orangered')\n",
    "ax[0].set_title(\"Total 5 countries by profit\", fontsize = 10) #fontsize = 10 sets the fontsize of chart title\n",
    "ax[0].set_ylabel(\"Total profit\")\n",
    "\n",
    "#ax[1] is the second\n",
    "ax[1].bar(x = df.groupby('Country').sum()['Total Profit'].sort_values(ascending = False).iloc[-5:].index, \n",
    "          height = df.groupby('Country').sum()['Total Profit'].sort_values(ascending = False).iloc[-5:].values, \n",
    "          color = 'orange')\n",
    "ax[1].set_title(\"Bottom 5 countries by profit\", fontsize = 10)"
   ]
  },
  {
   "cell_type": "markdown",
   "id": "4dd225da",
   "metadata": {},
   "source": [
    "__Display a line Chart of the Revenue by Region across the years, what was the difference between the highest and lowest Regions.__"
   ]
  },
  {
   "cell_type": "code",
   "execution_count": 104,
   "id": "89121593",
   "metadata": {},
   "outputs": [],
   "source": [
    "#Since there is no year in the data, we'll need to create a 'Year' column\n",
    "df['Year'] = df['Order Date'].dt.year # .dt.year extracts year from datetime datatype"
   ]
  },
  {
   "cell_type": "code",
   "execution_count": 433,
   "id": "116fd4fa",
   "metadata": {},
   "outputs": [
    {
     "data": {
      "text/plain": [
       "Text(0.5, 1.0, 'Total revenue by region across the years')"
      ]
     },
     "execution_count": 433,
     "metadata": {},
     "output_type": "execute_result"
    },
    {
     "data": {
      "image/png": "[encoded data removed]",
      "text/plain": [
       "<Figure size 1000x500 with 1 Axes>"
      ]
     },
     "metadata": {},
     "output_type": "display_data"
    }
   ],
   "source": [
    "plt.figure(figsize = (10,5)) #setting the size of figure\n",
    "\n",
    "#hue = df.Region differentiates the data points by region column \n",
    "#estimator = 'sum' changes the default aggregation to sum\n",
    "# ci = None deactivates the confidence interval\n",
    "ax = sns.lineplot(data = df, x = df.Year, y = df['Total Revenue'], \n",
    "                  hue = df.Region, estimator = 'sum', ci = None, palette = 'autumn', marker = 'o')\n",
    "sns.move_legend(ax, 'upper left', bbox_to_anchor = (1,1)) #moves the legend outside the chart\n",
    "ax.set_title(\"Total revenue by region across the years\") #chart title"
   ]
  },
  {
   "cell_type": "markdown",
   "id": "7bfce35a",
   "metadata": {},
   "source": [
    "__Compare the total cost of Baby Food items purchased by Africans and Europeans__"
   ]
  },
  {
   "cell_type": "code",
   "execution_count": 427,
   "id": "875cab06",
   "metadata": {},
   "outputs": [],
   "source": [
    "#Lets filter the data to get the baby food purchased by Africans and Europe and reset the index of the resulting dataframe\n",
    "\n",
    "\n",
    "baby_food = df.loc[(df['Item Type'] == 'Baby Food') & ((df['Region'] == 'Asia') | \n",
    "                                                       (df['Region'] == 'Sub-Saharan Africa'))].reset_index(drop = True)"
   ]
  },
  {
   "cell_type": "code",
   "execution_count": 161,
   "id": "79e993f0",
   "metadata": {},
   "outputs": [
    {
     "data": {
      "text/html": [
       "<div>\n",
       "<style scoped>\n",
       "    .dataframe tbody tr th:only-of-type {\n",
       "        vertical-align: middle;\n",
       "    }\n",
       "\n",
       "    .dataframe tbody tr th {\n",
       "        vertical-align: top;\n",
       "    }\n",
       "\n",
       "    .dataframe thead th {\n",
       "        text-align: right;\n",
       "    }\n",
       "</style>\n",
       "<table border=\"1\" class=\"dataframe\">\n",
       "  <thead>\n",
       "    <tr style=\"text-align: right;\">\n",
       "      <th></th>\n",
       "      <th>Region</th>\n",
       "      <th>Country</th>\n",
       "      <th>Item Type</th>\n",
       "      <th>Sales Channel</th>\n",
       "      <th>Order Priority</th>\n",
       "      <th>Order Date</th>\n",
       "      <th>Order ID</th>\n",
       "      <th>Ship Date</th>\n",
       "      <th>Units Sold</th>\n",
       "      <th>Unit Price</th>\n",
       "      <th>Unit Cost</th>\n",
       "      <th>Total Revenue</th>\n",
       "      <th>Total Cost</th>\n",
       "      <th>Total Profit</th>\n",
       "      <th>Year</th>\n",
       "    </tr>\n",
       "  </thead>\n",
       "  <tbody>\n",
       "    <tr>\n",
       "      <th>0</th>\n",
       "      <td>Asia</td>\n",
       "      <td>China</td>\n",
       "      <td>Baby Food</td>\n",
       "      <td>Online</td>\n",
       "      <td>C</td>\n",
       "      <td>2017-04-10</td>\n",
       "      <td>564251220</td>\n",
       "      <td>2017-05-12</td>\n",
       "      <td>3330</td>\n",
       "      <td>255.28</td>\n",
       "      <td>159.42</td>\n",
       "      <td>850082.40</td>\n",
       "      <td>530868.60</td>\n",
       "      <td>319213.80</td>\n",
       "      <td>2017</td>\n",
       "    </tr>\n",
       "    <tr>\n",
       "      <th>1</th>\n",
       "      <td>Sub-Saharan Africa</td>\n",
       "      <td>Madagascar</td>\n",
       "      <td>Baby Food</td>\n",
       "      <td>Offline</td>\n",
       "      <td>C</td>\n",
       "      <td>2011-08-11</td>\n",
       "      <td>821407258</td>\n",
       "      <td>2011-08-19</td>\n",
       "      <td>1516</td>\n",
       "      <td>255.28</td>\n",
       "      <td>159.42</td>\n",
       "      <td>387004.48</td>\n",
       "      <td>241680.72</td>\n",
       "      <td>145323.76</td>\n",
       "      <td>2011</td>\n",
       "    </tr>\n",
       "    <tr>\n",
       "      <th>2</th>\n",
       "      <td>Sub-Saharan Africa</td>\n",
       "      <td>Mauritius</td>\n",
       "      <td>Baby Food</td>\n",
       "      <td>Offline</td>\n",
       "      <td>H</td>\n",
       "      <td>2011-09-04</td>\n",
       "      <td>157518470</td>\n",
       "      <td>2011-09-04</td>\n",
       "      <td>2070</td>\n",
       "      <td>255.28</td>\n",
       "      <td>159.42</td>\n",
       "      <td>528429.60</td>\n",
       "      <td>329999.40</td>\n",
       "      <td>198430.20</td>\n",
       "      <td>2011</td>\n",
       "    </tr>\n",
       "    <tr>\n",
       "      <th>3</th>\n",
       "      <td>Sub-Saharan Africa</td>\n",
       "      <td>Sudan</td>\n",
       "      <td>Baby Food</td>\n",
       "      <td>Offline</td>\n",
       "      <td>M</td>\n",
       "      <td>2011-11-26</td>\n",
       "      <td>728690373</td>\n",
       "      <td>2011-12-17</td>\n",
       "      <td>4529</td>\n",
       "      <td>255.28</td>\n",
       "      <td>159.42</td>\n",
       "      <td>1156163.12</td>\n",
       "      <td>722013.18</td>\n",
       "      <td>434149.94</td>\n",
       "      <td>2011</td>\n",
       "    </tr>\n",
       "    <tr>\n",
       "      <th>4</th>\n",
       "      <td>Sub-Saharan Africa</td>\n",
       "      <td>Kenya</td>\n",
       "      <td>Baby Food</td>\n",
       "      <td>Offline</td>\n",
       "      <td>H</td>\n",
       "      <td>2016-10-24</td>\n",
       "      <td>877563703</td>\n",
       "      <td>2016-11-23</td>\n",
       "      <td>9456</td>\n",
       "      <td>255.28</td>\n",
       "      <td>159.42</td>\n",
       "      <td>2413927.68</td>\n",
       "      <td>1507475.52</td>\n",
       "      <td>906452.16</td>\n",
       "      <td>2016</td>\n",
       "    </tr>\n",
       "  </tbody>\n",
       "</table>\n",
       "</div>"
      ],
      "text/plain": [
       "               Region     Country  Item Type Sales Channel Order Priority  \\\n",
       "0                Asia       China  Baby Food        Online              C   \n",
       "1  Sub-Saharan Africa  Madagascar  Baby Food       Offline              C   \n",
       "2  Sub-Saharan Africa  Mauritius   Baby Food       Offline              H   \n",
       "3  Sub-Saharan Africa       Sudan  Baby Food       Offline              M   \n",
       "4  Sub-Saharan Africa       Kenya  Baby Food       Offline              H   \n",
       "\n",
       "  Order Date   Order ID  Ship Date  Units Sold  Unit Price  Unit Cost  \\\n",
       "0 2017-04-10  564251220 2017-05-12        3330      255.28     159.42   \n",
       "1 2011-08-11  821407258 2011-08-19        1516      255.28     159.42   \n",
       "2 2011-09-04  157518470 2011-09-04        2070      255.28     159.42   \n",
       "3 2011-11-26  728690373 2011-12-17        4529      255.28     159.42   \n",
       "4 2016-10-24  877563703 2016-11-23        9456      255.28     159.42   \n",
       "\n",
       "   Total Revenue  Total Cost  Total Profit  Year  \n",
       "0      850082.40   530868.60     319213.80  2017  \n",
       "1      387004.48   241680.72     145323.76  2011  \n",
       "2      528429.60   329999.40     198430.20  2011  \n",
       "3     1156163.12   722013.18     434149.94  2011  \n",
       "4     2413927.68  1507475.52     906452.16  2016  "
      ]
     },
     "execution_count": 161,
     "metadata": {},
     "output_type": "execute_result"
    }
   ],
   "source": [
    "baby_food.head()"
   ]
  },
  {
   "cell_type": "code",
   "execution_count": 162,
   "id": "e1c9ed0b",
   "metadata": {},
   "outputs": [
    {
     "data": {
      "text/plain": [
       "Region\n",
       "Asia                  1.060894e+08\n",
       "Sub-Saharan Africa    1.878784e+08\n",
       "Name: Total Cost, dtype: float64"
      ]
     },
     "execution_count": 162,
     "metadata": {},
     "output_type": "execute_result"
    }
   ],
   "source": [
    "#Group the dataframe by region and return a sum of 'Total Cost'\n",
    "baby_food.groupby('Region').sum()['Total Cost']"
   ]
  },
  {
   "cell_type": "code",
   "execution_count": 178,
   "id": "91d029b4",
   "metadata": {},
   "outputs": [
    {
     "data": {
      "text/plain": [
       "Text(0, 0.5, '')"
      ]
     },
     "execution_count": 178,
     "metadata": {},
     "output_type": "execute_result"
    },
    {
     "data": {
      "image/png": "[encoded data removed]",
      "text/plain": [
       "<Figure size 300x300 with 1 Axes>"
      ]
     },
     "metadata": {},
     "output_type": "display_data"
    }
   ],
   "source": [
    "#visualizing the data\n",
    "plt.figure(figsize = (3,3)) #setting figure size\n",
    "palette = sns.color_palette('autumn_r') #setting the palette (colour theme)\n",
    "baby_food.groupby('Region').sum()['Total Cost'].plot(kind = 'pie', colors = palette) #plots a pie chart\n",
    "plt.title('Total cost of baby food in Asia vs Sub-Saharan Africa', fontsize = 10) #sets title\n",
    "plt.ylabel('') #removes ylabel"
   ]
  },
  {
   "cell_type": "raw",
   "id": "58165a9e",
   "metadata": {},
   "source": [
    "The total cost of baby food purchased by Sub-Saharan Africans is greater than that of Asia."
   ]
  },
  {
   "cell_type": "markdown",
   "id": "3734f06e",
   "metadata": {},
   "source": [
    "__How many units of office supplies was sold to the Czech Republic?__"
   ]
  },
  {
   "cell_type": "code",
   "execution_count": 435,
   "id": "ed22fc1c",
   "metadata": {},
   "outputs": [],
   "source": [
    "#filter out the office supplies sold to Czech republic alone\n",
    "office_supplies_czech = df.loc[(df['Item Type'] == 'Office Supplies') & (df['Country'] == 'Czech Republic') ].reset_index(drop = True)"
   ]
  },
  {
   "cell_type": "code",
   "execution_count": 436,
   "id": "8d2f7404",
   "metadata": {},
   "outputs": [
    {
     "data": {
      "text/html": [
       "<div>\n",
       "<style scoped>\n",
       "    .dataframe tbody tr th:only-of-type {\n",
       "        vertical-align: middle;\n",
       "    }\n",
       "\n",
       "    .dataframe tbody tr th {\n",
       "        vertical-align: top;\n",
       "    }\n",
       "\n",
       "    .dataframe thead th {\n",
       "        text-align: right;\n",
       "    }\n",
       "</style>\n",
       "<table border=\"1\" class=\"dataframe\">\n",
       "  <thead>\n",
       "    <tr style=\"text-align: right;\">\n",
       "      <th></th>\n",
       "      <th>Region</th>\n",
       "      <th>Country</th>\n",
       "      <th>Item Type</th>\n",
       "      <th>Sales Channel</th>\n",
       "      <th>Order Priority</th>\n",
       "      <th>Order Date</th>\n",
       "      <th>Order ID</th>\n",
       "      <th>Ship Date</th>\n",
       "      <th>Units Sold</th>\n",
       "      <th>Unit Price</th>\n",
       "      <th>Unit Cost</th>\n",
       "      <th>Total Revenue</th>\n",
       "      <th>Total Cost</th>\n",
       "      <th>Total Profit</th>\n",
       "      <th>Year</th>\n",
       "    </tr>\n",
       "  </thead>\n",
       "  <tbody>\n",
       "    <tr>\n",
       "      <th>0</th>\n",
       "      <td>Europe</td>\n",
       "      <td>Czech Republic</td>\n",
       "      <td>Office Supplies</td>\n",
       "      <td>Online</td>\n",
       "      <td>M</td>\n",
       "      <td>2016-01-24</td>\n",
       "      <td>418621861</td>\n",
       "      <td>2016-02-21</td>\n",
       "      <td>8366</td>\n",
       "      <td>651.21</td>\n",
       "      <td>524.96</td>\n",
       "      <td>5448022.86</td>\n",
       "      <td>4391815.36</td>\n",
       "      <td>1056207.50</td>\n",
       "      <td>2016</td>\n",
       "    </tr>\n",
       "    <tr>\n",
       "      <th>1</th>\n",
       "      <td>Europe</td>\n",
       "      <td>Czech Republic</td>\n",
       "      <td>Office Supplies</td>\n",
       "      <td>Online</td>\n",
       "      <td>M</td>\n",
       "      <td>2015-01-30</td>\n",
       "      <td>154060781</td>\n",
       "      <td>2015-02-23</td>\n",
       "      <td>8863</td>\n",
       "      <td>651.21</td>\n",
       "      <td>524.96</td>\n",
       "      <td>5771674.23</td>\n",
       "      <td>4652720.48</td>\n",
       "      <td>1118953.75</td>\n",
       "      <td>2015</td>\n",
       "    </tr>\n",
       "  </tbody>\n",
       "</table>\n",
       "</div>"
      ],
      "text/plain": [
       "   Region         Country        Item Type Sales Channel Order Priority  \\\n",
       "0  Europe  Czech Republic  Office Supplies        Online              M   \n",
       "1  Europe  Czech Republic  Office Supplies        Online              M   \n",
       "\n",
       "  Order Date   Order ID  Ship Date  Units Sold  Unit Price  Unit Cost  \\\n",
       "0 2016-01-24  418621861 2016-02-21        8366      651.21     524.96   \n",
       "1 2015-01-30  154060781 2015-02-23        8863      651.21     524.96   \n",
       "\n",
       "   Total Revenue  Total Cost  Total Profit  Year  \n",
       "0     5448022.86  4391815.36    1056207.50  2016  \n",
       "1     5771674.23  4652720.48    1118953.75  2015  "
      ]
     },
     "execution_count": 436,
     "metadata": {},
     "output_type": "execute_result"
    }
   ],
   "source": [
    "office_supplies_czech.head(2)"
   ]
  },
  {
   "cell_type": "code",
   "execution_count": 190,
   "id": "527be577",
   "metadata": {},
   "outputs": [
    {
     "name": "stdout",
     "output_type": "stream",
     "text": [
      "The units of office supplies sold to Czech Republic is \u001b[1m36086\u001b[0m units.\n"
     ]
    }
   ],
   "source": [
    "#office_supplies_czech['Units Sold'].sum() adds up the total cost column\n",
    "print(f\"The units of office supplies sold to Czech Republic is \\033[1m{office_supplies_czech['Units Sold'].sum()}\\033[0m units.\")"
   ]
  },
  {
   "cell_type": "markdown",
   "id": "14f30fcd",
   "metadata": {},
   "source": [
    "__Which Country brought in the most Revenue between 2011 -2015?__"
   ]
  },
  {
   "cell_type": "code",
   "execution_count": 211,
   "id": "f5c169f3",
   "metadata": {},
   "outputs": [],
   "source": [
    "#filter 2011 - 2015 data\n",
    "between_2011_and_2015 = df[df['Year'].isin ([2011, 2012, 2013, 2014, 2015])]"
   ]
  },
  {
   "cell_type": "code",
   "execution_count": 437,
   "id": "f37ca60a",
   "metadata": {},
   "outputs": [
    {
     "data": {
      "text/html": [
       "<div>\n",
       "<style scoped>\n",
       "    .dataframe tbody tr th:only-of-type {\n",
       "        vertical-align: middle;\n",
       "    }\n",
       "\n",
       "    .dataframe tbody tr th {\n",
       "        vertical-align: top;\n",
       "    }\n",
       "\n",
       "    .dataframe thead th {\n",
       "        text-align: right;\n",
       "    }\n",
       "</style>\n",
       "<table border=\"1\" class=\"dataframe\">\n",
       "  <thead>\n",
       "    <tr style=\"text-align: right;\">\n",
       "      <th></th>\n",
       "      <th>Region</th>\n",
       "      <th>Country</th>\n",
       "      <th>Item Type</th>\n",
       "      <th>Sales Channel</th>\n",
       "      <th>Order Priority</th>\n",
       "      <th>Order Date</th>\n",
       "      <th>Order ID</th>\n",
       "      <th>Ship Date</th>\n",
       "      <th>Units Sold</th>\n",
       "      <th>Unit Price</th>\n",
       "      <th>Unit Cost</th>\n",
       "      <th>Total Revenue</th>\n",
       "      <th>Total Cost</th>\n",
       "      <th>Total Profit</th>\n",
       "      <th>Year</th>\n",
       "    </tr>\n",
       "  </thead>\n",
       "  <tbody>\n",
       "    <tr>\n",
       "      <th>0</th>\n",
       "      <td>Sub-Saharan Africa</td>\n",
       "      <td>Chad</td>\n",
       "      <td>Office Supplies</td>\n",
       "      <td>Online</td>\n",
       "      <td>L</td>\n",
       "      <td>2011-01-27</td>\n",
       "      <td>292494523</td>\n",
       "      <td>2011-02-12</td>\n",
       "      <td>4484</td>\n",
       "      <td>651.21</td>\n",
       "      <td>524.96</td>\n",
       "      <td>2920025.64</td>\n",
       "      <td>2353920.64</td>\n",
       "      <td>566105.00</td>\n",
       "      <td>2011</td>\n",
       "    </tr>\n",
       "    <tr>\n",
       "      <th>1</th>\n",
       "      <td>Europe</td>\n",
       "      <td>Latvia</td>\n",
       "      <td>Beverages</td>\n",
       "      <td>Online</td>\n",
       "      <td>C</td>\n",
       "      <td>2015-12-28</td>\n",
       "      <td>361825549</td>\n",
       "      <td>2016-01-23</td>\n",
       "      <td>1075</td>\n",
       "      <td>47.45</td>\n",
       "      <td>31.79</td>\n",
       "      <td>51008.75</td>\n",
       "      <td>34174.25</td>\n",
       "      <td>16834.50</td>\n",
       "      <td>2015</td>\n",
       "    </tr>\n",
       "    <tr>\n",
       "      <th>2</th>\n",
       "      <td>Middle East and North Africa</td>\n",
       "      <td>Pakistan</td>\n",
       "      <td>Vegetables</td>\n",
       "      <td>Offline</td>\n",
       "      <td>C</td>\n",
       "      <td>2011-01-13</td>\n",
       "      <td>141515767</td>\n",
       "      <td>2011-02-01</td>\n",
       "      <td>6515</td>\n",
       "      <td>154.06</td>\n",
       "      <td>90.93</td>\n",
       "      <td>1003700.90</td>\n",
       "      <td>592408.95</td>\n",
       "      <td>411291.95</td>\n",
       "      <td>2011</td>\n",
       "    </tr>\n",
       "    <tr>\n",
       "      <th>3</th>\n",
       "      <td>Sub-Saharan Africa</td>\n",
       "      <td>Democratic Republic of the Congo</td>\n",
       "      <td>Household</td>\n",
       "      <td>Online</td>\n",
       "      <td>C</td>\n",
       "      <td>2012-09-11</td>\n",
       "      <td>500364005</td>\n",
       "      <td>2012-10-06</td>\n",
       "      <td>7683</td>\n",
       "      <td>668.27</td>\n",
       "      <td>502.54</td>\n",
       "      <td>5134318.41</td>\n",
       "      <td>3861014.82</td>\n",
       "      <td>1273303.59</td>\n",
       "      <td>2012</td>\n",
       "    </tr>\n",
       "    <tr>\n",
       "      <th>4</th>\n",
       "      <td>Europe</td>\n",
       "      <td>Czech Republic</td>\n",
       "      <td>Beverages</td>\n",
       "      <td>Online</td>\n",
       "      <td>C</td>\n",
       "      <td>2015-10-27</td>\n",
       "      <td>127481591</td>\n",
       "      <td>2015-12-05</td>\n",
       "      <td>3491</td>\n",
       "      <td>47.45</td>\n",
       "      <td>31.79</td>\n",
       "      <td>165647.95</td>\n",
       "      <td>110978.89</td>\n",
       "      <td>54669.06</td>\n",
       "      <td>2015</td>\n",
       "    </tr>\n",
       "  </tbody>\n",
       "</table>\n",
       "</div>"
      ],
      "text/plain": [
       "                         Region                           Country  \\\n",
       "0            Sub-Saharan Africa                              Chad   \n",
       "1                        Europe                            Latvia   \n",
       "2  Middle East and North Africa                          Pakistan   \n",
       "3            Sub-Saharan Africa  Democratic Republic of the Congo   \n",
       "4                        Europe                    Czech Republic   \n",
       "\n",
       "         Item Type Sales Channel Order Priority Order Date   Order ID  \\\n",
       "0  Office Supplies        Online              L 2011-01-27  292494523   \n",
       "1        Beverages        Online              C 2015-12-28  361825549   \n",
       "2       Vegetables       Offline              C 2011-01-13  141515767   \n",
       "3        Household        Online              C 2012-09-11  500364005   \n",
       "4        Beverages        Online              C 2015-10-27  127481591   \n",
       "\n",
       "   Ship Date  Units Sold  Unit Price  Unit Cost  Total Revenue  Total Cost  \\\n",
       "0 2011-02-12        4484      651.21     524.96     2920025.64  2353920.64   \n",
       "1 2016-01-23        1075       47.45      31.79       51008.75    34174.25   \n",
       "2 2011-02-01        6515      154.06      90.93     1003700.90   592408.95   \n",
       "3 2012-10-06        7683      668.27     502.54     5134318.41  3861014.82   \n",
       "4 2015-12-05        3491       47.45      31.79      165647.95   110978.89   \n",
       "\n",
       "   Total Profit  Year  \n",
       "0     566105.00  2011  \n",
       "1      16834.50  2015  \n",
       "2     411291.95  2011  \n",
       "3    1273303.59  2012  \n",
       "4      54669.06  2015  "
      ]
     },
     "execution_count": 437,
     "metadata": {},
     "output_type": "execute_result"
    }
   ],
   "source": [
    "between_2011_and_2015.head()"
   ]
  },
  {
   "cell_type": "code",
   "execution_count": 213,
   "id": "eb9532ac",
   "metadata": {},
   "outputs": [
    {
     "data": {
      "text/plain": [
       "Country\n",
       "Taiwan    88416183.04\n",
       "Name: Total Revenue, dtype: float64"
      ]
     },
     "execution_count": 213,
     "metadata": {},
     "output_type": "execute_result"
    }
   ],
   "source": [
    "#group the resulting dataframe by country,  sum up total revenue and return the first record\n",
    "between_2011_and_2015.groupby('Country').sum()['Total Revenue'].sort_values(ascending = False).iloc[:1]"
   ]
  },
  {
   "cell_type": "code",
   "execution_count": 214,
   "id": "18a0f1fc",
   "metadata": {},
   "outputs": [
    {
     "name": "stdout",
     "output_type": "stream",
     "text": [
      "The country that that raked in the highest revenue is \u001b[1mTaiwan\u001b[0m.\n"
     ]
    }
   ],
   "source": [
    "print(f\"The country that that raked in the highest revenue is \\033[1m{between_2011_and_2015.groupby('Country').sum()['Total Revenue'].sort_values(ascending = False).index[0]}\\033[0m.\")"
   ]
  },
  {
   "cell_type": "markdown",
   "id": "6a1001bb",
   "metadata": {},
   "source": [
    "__Which Region was the most profitable in 2015?__"
   ]
  },
  {
   "cell_type": "code",
   "execution_count": 215,
   "id": "9fbc0c2d",
   "metadata": {},
   "outputs": [],
   "source": [
    "#extract 2015 data\n",
    "_2015 = df[df['Year'] == 2015]"
   ]
  },
  {
   "cell_type": "code",
   "execution_count": 217,
   "id": "e50b7f64",
   "metadata": {},
   "outputs": [
    {
     "data": {
      "text/plain": [
       "Region\n",
       "Europe    1.415080e+08\n",
       "Name: Total Profit, dtype: float64"
      ]
     },
     "execution_count": 217,
     "metadata": {},
     "output_type": "execute_result"
    }
   ],
   "source": [
    "#groupby region, sum up the total profit and return the first record\n",
    "_2015.groupby('Region').sum()['Total Profit'].sort_values(ascending = False).iloc[:1]"
   ]
  },
  {
   "cell_type": "code",
   "execution_count": 224,
   "id": "81decdc3",
   "metadata": {},
   "outputs": [
    {
     "data": {
      "text/plain": [
       "Text(0, 0.5, '')"
      ]
     },
     "execution_count": 224,
     "metadata": {},
     "output_type": "execute_result"
    },
    {
     "data": {
      "image/png": "[encoded data removed]",
      "text/plain": [
       "<Figure size 640x480 with 1 Axes>"
      ]
     },
     "metadata": {},
     "output_type": "display_data"
    }
   ],
   "source": [
    "palette = sns.color_palette('autumn') #sets colour theme\n",
    "_2015.groupby('Region').sum()['Total Profit'].sort_values().plot(kind = 'barh', color = palette)\n",
    "plt.title('Total profit by region in 2015', fontsize = 10)\n",
    "plt.ylabel('')"
   ]
  },
  {
   "cell_type": "markdown",
   "id": "bd92634c",
   "metadata": {},
   "source": [
    "__Which Country ordered the most item and what item did they order the most?__"
   ]
  },
  {
   "cell_type": "markdown",
   "id": "ec6e5050",
   "metadata": {},
   "source": [
    "Steps involved\n",
    "1. Find the country that ordered most\n",
    "2. Find the item the country ordered most"
   ]
  },
  {
   "cell_type": "code",
   "execution_count": 438,
   "id": "92a74f9d",
   "metadata": {},
   "outputs": [
    {
     "data": {
      "text/plain": [
       "'Taiwan'"
      ]
     },
     "execution_count": 438,
     "metadata": {},
     "output_type": "execute_result"
    }
   ],
   "source": [
    "#find the country that ordered most. Group data by country, sum up Units sold and return the index (country) with the maximum value\n",
    "most_items_country = df.groupby('Country')['Units Sold'].sum().idxmax() \n",
    "most_items_country"
   ]
  },
  {
   "cell_type": "code",
   "execution_count": 285,
   "id": "1a92a7cb",
   "metadata": {},
   "outputs": [],
   "source": [
    "#filter Taiwan records\n",
    "taiwan_orders = df[df['Country'] == most_items_country]"
   ]
  },
  {
   "cell_type": "code",
   "execution_count": 439,
   "id": "c4f7489f",
   "metadata": {},
   "outputs": [],
   "source": [
    "#item ordered most\n",
    "##find the country that ordered most. Group data by item type, sum up Units sold and return the index (item type) with the maximum value\n",
    "most_ordered_item = taiwan_orders.groupby('Item Type').sum()['Units Sold'].idxmax()"
   ]
  },
  {
   "cell_type": "code",
   "execution_count": 294,
   "id": "45eb6df8",
   "metadata": {},
   "outputs": [
    {
     "name": "stdout",
     "output_type": "stream",
     "text": [
      "\u001b[1mTaiwan\u001b[0m ordered most item and the most ordered item is \u001b[1mBeverages\u001b[0m.\n"
     ]
    }
   ],
   "source": [
    "print(f\"\\033[1m{most_items_country}\\033[0m ordered most item and the most ordered item is \\033[1m{most_ordered_item}\\033[0m.\")"
   ]
  },
  {
   "cell_type": "markdown",
   "id": "1f56c434",
   "metadata": {},
   "source": [
    "__Which Region, and in turn Country was the least profitable through the Online Sales Channel?__"
   ]
  },
  {
   "cell_type": "code",
   "execution_count": 295,
   "id": "dc3c1812",
   "metadata": {},
   "outputs": [],
   "source": [
    "#filter out online sales\n",
    "online_sales = df[df['Sales Channel'] == 'Online']"
   ]
  },
  {
   "cell_type": "code",
   "execution_count": 440,
   "id": "15b58397",
   "metadata": {},
   "outputs": [
    {
     "data": {
      "text/plain": [
       "'North America'"
      ]
     },
     "execution_count": 440,
     "metadata": {},
     "output_type": "execute_result"
    }
   ],
   "source": [
    "#returns the region with least online sales\n",
    "least_profitable_region = online_sales.groupby('Region').sum()['Total Profit'].idxmin()\n",
    "least_profitable_region"
   ]
  },
  {
   "cell_type": "code",
   "execution_count": 331,
   "id": "5cd1f4f6",
   "metadata": {},
   "outputs": [
    {
     "name": "stderr",
     "output_type": "stream",
     "text": [
      "C:\\Users\\MASTER\\AppData\\Local\\Temp\\ipykernel_2588\\315445320.py:2: UserWarning: Boolean Series key will be reindexed to match DataFrame index.\n",
      "  north_america_online_sales = online_sales[df['Region'] == least_profitable_region]\n"
     ]
    }
   ],
   "source": [
    "#filter North America records\n",
    "north_america_online_sales = online_sales[df['Region'] == least_profitable_region]"
   ]
  },
  {
   "cell_type": "code",
   "execution_count": 336,
   "id": "3d2bf548",
   "metadata": {},
   "outputs": [],
   "source": [
    "# Group north america records by country, sum up total profit and return the index (country) with the minimum value\n",
    "least_profitable_country_online = north_america_online_sales.groupby('Country').sum()['Total Profit'].idxmin()"
   ]
  },
  {
   "cell_type": "code",
   "execution_count": 338,
   "id": "e7af1e39",
   "metadata": {},
   "outputs": [
    {
     "name": "stdout",
     "output_type": "stream",
     "text": [
      "\u001b[1mNorth America\u001b[0m ordered most item and the most ordered item is \u001b[1mCanada\u001b[0m.\n"
     ]
    }
   ],
   "source": [
    "print(f\"\\033[1m{least_profitable_region}\\033[0m ordered most item and the most ordered item is \\033[1m{least_profitable_country_online}\\033[0m.\")"
   ]
  },
  {
   "cell_type": "markdown",
   "id": "c1ea5318",
   "metadata": {},
   "source": [
    "__From which Asian Country did we get the most Profit in the Beverages item type?__"
   ]
  },
  {
   "cell_type": "code",
   "execution_count": 341,
   "id": "3caeb27f",
   "metadata": {},
   "outputs": [],
   "source": [
    "#extracts record od beverage sales in Asia\n",
    "asia_sales = df[(df['Region'] == 'Asia') & (df['Item Type'] == 'Beverages')]"
   ]
  },
  {
   "cell_type": "code",
   "execution_count": 344,
   "id": "21ba6848",
   "metadata": {},
   "outputs": [
    {
     "data": {
      "text/plain": [
       "'Taiwan'"
      ]
     },
     "execution_count": 344,
     "metadata": {},
     "output_type": "execute_result"
    }
   ],
   "source": [
    "#Group Asia sales by country, sum up total profit and return the index (country) with the maximum value\n",
    "asia_sales.groupby('Country').sum()['Total Profit'].idxmax()"
   ]
  },
  {
   "cell_type": "markdown",
   "id": "d7484976",
   "metadata": {},
   "source": [
    "__Compare the units of Fruits sold to Nigeria to the units of Snacks sold.__"
   ]
  },
  {
   "cell_type": "code",
   "execution_count": 349,
   "id": "a1df4253",
   "metadata": {},
   "outputs": [],
   "source": [
    "#filter out snack and fruits sales record to Nigeria\n",
    "Nigeria_snacks_fruits_sales = df[((df['Country'] == 'Nigeria') & (df['Item Type'] == 'Fruits')) | ((df['Country'] == 'Nigeria') & (df['Item Type'] == 'Snacks'))]"
   ]
  },
  {
   "cell_type": "code",
   "execution_count": 441,
   "id": "5ef51310",
   "metadata": {},
   "outputs": [
    {
     "data": {
      "text/plain": [
       "Item Type\n",
       "Fruits    14884\n",
       "Snacks    20460\n",
       "Name: Units Sold, dtype: int64"
      ]
     },
     "execution_count": 441,
     "metadata": {},
     "output_type": "execute_result"
    }
   ],
   "source": [
    "#group by item type and return the sum of units sold\n",
    "Nigeria_snacks_fruits_sales.groupby('Item Type').sum()['Units Sold']"
   ]
  },
  {
   "cell_type": "code",
   "execution_count": 356,
   "id": "a27ca171",
   "metadata": {},
   "outputs": [
    {
     "data": {
      "text/plain": [
       "Text(0, 0.5, '')"
      ]
     },
     "execution_count": 356,
     "metadata": {},
     "output_type": "execute_result"
    },
    {
     "data": {
      "image/png": "[encoded data removed]",
      "text/plain": [
       "<Figure size 300x300 with 1 Axes>"
      ]
     },
     "metadata": {},
     "output_type": "display_data"
    }
   ],
   "source": [
    "#Plotting a pie chart to for comparism\n",
    "plt.figure(figsize = (3,3)) #figure size\n",
    "palette = sns.color_palette('autumn_r') #colour theme\n",
    "Nigeria_snacks_fruits_sales.groupby('Item Type').sum()['Units Sold'].plot(kind = 'pie', colors = palette) #plots a pie chart\n",
    "plt.title(\"Unit of fruits to snacks sold to Nigeria\", fontsize = 10) #plot title\n",
    "plt.ylabel(\"\") # removes ylabel"
   ]
  }
 ],
 "metadata": {
  "kernelspec": {
   "display_name": "Python 3 (ipykernel)",
   "language": "python",
   "name": "python3"
  },
  "language_info": {
   "codemirror_mode": {
    "name": "ipython",
    "version": 3
   },
   "file_extension": ".py",
   "mimetype": "text/x-python",
   "name": "python",
   "nbconvert_exporter": "python",
   "pygments_lexer": "ipython3",
   "version": "3.11.1"
  }
 },
 "nbformat": 4,
 "nbformat_minor": 5
}
